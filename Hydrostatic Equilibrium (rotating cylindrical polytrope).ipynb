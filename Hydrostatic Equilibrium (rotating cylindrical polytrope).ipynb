{
 "cells": [
  {
   "cell_type": "markdown",
   "metadata": {},
   "source": [
    "#  Hydrostatic Equilibrium of Rotating Cylindrical Polytrope\n",
    "\n",
    "\n",
    "## Lane-Emden Equation\n",
    "\n",
    "The Lane-Emden equation is $$θ''+\\frac{θ'}{ξ}=-θ^n+β$$\n",
    "\n",
    "where β is a constant being correlate with the rotation of a NS,\n",
    "\n",
    "n is the polytropic index from the polytropic EOS ($P=Kρ^Γ$ with $Γ=1+\\frac{1}{n}$),\n",
    "\n",
    "and θ from the density's function $ρ(θ)={ρ_c}θ^n$\n",
    "\n",
    "\n",
    "\n",
    "\n",
    "### *Numerical Solution for Lane-Emden Equation*\n",
    "\n",
    "#### Runge-Kutta Method:\n",
    "\n",
    "- The DE is $$θ''+\\frac{θ'}{ξ}=-θ^n+β$$\n",
    "\n",
    "\n",
    "- Assuming $θ'=\\frac{dθ}{dξ}=z$, $θ''=\\frac{d^2θ}{dξ^2}=z'$ and also replacing ξ with x, θ with y and β with b\n",
    "\n",
    "\n",
    "- The DEs are $$z'=-\\frac{z}{x}-y^n+b=f(y,z)$$ $$and$$ $$y'=z$$\n",
    "\n",
    "\n",
    "- Initial Conditions: The density at the center of the star is known to be equal to $ρ_n$, so θ(0)=y(0)=1 and z(0)=0. Therefore, $z'(0)=-\\frac{z(=0)}{x(=0)}-1+b$ $\\implies(De L' Hospital)\\implies f(0)=z'(0)=\\frac{-1+b}{2} $\n",
    "\n",
    "\n",
    "- $\\underline{Numerical}$ $\\underline{Solution}$: $${y_{i+1}}={y_i}+\\frac{k_1 +2k_2 +2k_3+ k_4}{6}$$ \n",
    "$${z_{i+1}}={z_i}+\\frac{l_1 +2l_2 +2l_3+ l_4}{6}$$\n",
    "\n",
    "\n",
    "where \n",
    "\n",
    "$k_1=hy'_i,$\n",
    "\n",
    "$k_2=hy'(z_i+\\frac{l_1}{2}),$\n",
    "\n",
    "$k_3=hy'(z_i+\\frac{l_2}{2}),$\n",
    "\n",
    "$k_4=hy'(z_i+l_3).$\n",
    "\n",
    "$l_1=hf_i,$\n",
    "\n",
    "$l_2=hf(x_i+\\frac{h}{2},y_i+\\frac{k_1}{2},z_i+\\frac{l_1}{2}),$\n",
    "\n",
    "$l_3=hf(x_i+\\frac{h}{2},y_i+\\frac{k_2}{2},z_i+\\frac{l_2}{2}),$\n",
    "\n",
    "$l_4=hf(x_i+h,y_i+k_3,z_i+l_3).$\n",
    "\n",
    "\n",
    "## Rotation - β constant\n",
    "\n",
    "The dimensionless variable b is $$β=\\frac{Ω^2}{2πGρ_c}$$\n",
    "\n",
    "Every star has a maximum Rotation (Ω) depending from the polytropic index n. If b exceed the maximum limit $β_c$, the star will be destroyed (mass shedding). In this case, the equilibrium not apply and therefore it is $\\frac{dP}{dr}=0$ at the surface of the star. So, at this boundary condition the Lane-Emden Equation (for $ξ=ξ_1$) takes the form: $$θ''(ξ1)=β$$.\n",
    "\n",
    "\n"
   ]
  },
  {
   "cell_type": "markdown",
   "metadata": {},
   "source": [
    "***************************************"
   ]
  },
  {
   "cell_type": "code",
   "execution_count": 1,
   "metadata": {},
   "outputs": [],
   "source": [
    "from __future__ import print_function, division\n",
    "import numpy as np\n",
    "from scipy import fftpack \n",
    "import matplotlib.pyplot as plt\n",
    "%matplotlib inline\n",
    "import scipy as sp"
   ]
  },
  {
   "cell_type": "markdown",
   "metadata": {},
   "source": [
    "Set step h and DE:"
   ]
  },
  {
   "cell_type": "code",
   "execution_count": 2,
   "metadata": {},
   "outputs": [],
   "source": [
    "h=1e-5\n",
    "de= lambda x,y,z : -(z/x)-pow(y,n)+b"
   ]
  },
  {
   "cell_type": "markdown",
   "metadata": {},
   "source": [
    "Set constant b (*rotation*) and polytropic index:"
   ]
  },
  {
   "cell_type": "code",
   "execution_count": 3,
   "metadata": {},
   "outputs": [],
   "source": [
    "b=0.2738\n",
    "n=1"
   ]
  },
  {
   "cell_type": "markdown",
   "metadata": {},
   "source": [
    "Set initial values:"
   ]
  },
  {
   "cell_type": "code",
   "execution_count": 4,
   "metadata": {},
   "outputs": [],
   "source": [
    "x=[0]\n",
    "y=[1]\n",
    "z=[0]\n",
    "f=[(b-1)/2]\n",
    "\n",
    "k1=[]\n",
    "k2=[]\n",
    "k3=[]\n",
    "k4=[]\n",
    "l1=[]\n",
    "l2=[]\n",
    "l3=[]\n",
    "l4=[]"
   ]
  },
  {
   "cell_type": "code",
   "execution_count": 5,
   "metadata": {},
   "outputs": [],
   "source": [
    "def RK(i) :\n",
    "    x.append(x[i]+h)\n",
    "    \n",
    "    k1.append(h*z[i])\n",
    "    l1.append(h*f[i])\n",
    "    \n",
    "    k2.append(h*(z[i]+0.5*l1[i]))\n",
    "    l2.append(h*de(x[i]+h*0.5,y[i]+k1[i]*0.5,z[i]+l1[i]*0.5))\n",
    "    \n",
    "    k3.append(h*(z[i]+0.5*l2[i]))\n",
    "    l3.append(h*de(x[i]+h*0.5,y[i]+k2[i]*0.5,z[i]+l2[i]*0.5))\n",
    "    \n",
    "    k4.append(h*(z[i]+l3[i]))\n",
    "    l4.append(h*de(x[i]+h,y[i]+k3[i],z[i]+l3[i]))\n",
    "    \n",
    "   \n",
    "    y.append(y[i]+(k1[i]+2*k2[i]+2*k3[i]+k4[i])/6)\n",
    "    z.append(z[i]+(l1[i]+2*l2[i]+2*l3[i]+l4[i])/6)\n",
    "    f.append(de(x[i+1],y[i+1],z[i+1]))\n",
    "    \n",
    "    \n"
   ]
  },
  {
   "cell_type": "code",
   "execution_count": 6,
   "metadata": {},
   "outputs": [],
   "source": [
    "i=0\n",
    "\n",
    "while np.real(y[i])>=0:\n",
    "      RK(i)\n",
    "      i +=1\n",
    "    \n",
    "    "
   ]
  },
  {
   "cell_type": "code",
   "execution_count": 7,
   "metadata": {},
   "outputs": [
    {
     "name": "stdout",
     "output_type": "stream",
     "text": [
      "The root is ξ1=  3.478180000014319\n"
     ]
    }
   ],
   "source": [
    "print('The root is ξ1= ',x[i-1])"
   ]
  },
  {
   "cell_type": "markdown",
   "metadata": {},
   "source": [
    "## Plot: x-y (Radious-Density)"
   ]
  },
  {
   "cell_type": "code",
   "execution_count": 8,
   "metadata": {
    "scrolled": true
   },
   "outputs": [
    {
     "data": {
      "image/png": "[encoded data removed]",
      "text/plain": [
       "<Figure size 576x432 with 1 Axes>"
      ]
     },
     "metadata": {},
     "output_type": "display_data"
    }
   ],
   "source": [
    "name='Radious-Density Graph for n=%.1f and b=%.2f' %(n,b)\n",
    "fig=plt.figure(figsize=(8,6))\n",
    "plt.plot(x,y,'r',label='θ(ξ) with ξ1=%.4f (n=%.1f and b=%.2f)' %(x[i-1],n,b))\n",
    "\n",
    "##set plot legend\n",
    "plt.legend(loc='best')\n",
    "\n",
    "##set x and y label\n",
    "plt.xlabel('ξ', fontsize=15)\n",
    "plt.ylabel('θ',fontsize=15)\n",
    "\n",
    "##set O(0,0)\n",
    "plt.xlim()\n",
    "a=plt.gca()\n",
    "a.set_xlim(0)\n",
    "a.set_ylim(0)\n",
    "\n",
    "##save the figure\n",
    "plt.savefig('%s.pdf' %name)"
   ]
  },
  {
   "cell_type": "code",
   "execution_count": null,
   "metadata": {},
   "outputs": [],
   "source": []
  }
 ],
 "metadata": {
  "kernelspec": {
   "display_name": "Python 3",
   "language": "python",
   "name": "python3"
  },
  "language_info": {
   "codemirror_mode": {
    "name": "ipython",
    "version": 3
   },
   "file_extension": ".py",
   "mimetype": "text/x-python",
   "name": "python",
   "nbconvert_exporter": "python",
   "pygments_lexer": "ipython3",
   "version": "3.6.5"
  }
 },
 "nbformat": 4,
 "nbformat_minor": 2
}
